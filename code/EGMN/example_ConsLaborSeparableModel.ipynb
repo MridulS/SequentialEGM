{
 "cells": [
  {
   "cell_type": "code",
   "execution_count": 1,
   "metadata": {},
   "outputs": [
    {
     "name": "stderr",
     "output_type": "stream",
     "text": [
      "c:\\Users\\alujan\\mambaforge\\envs\\egmn-dev\\lib\\site-packages\\numba\\core\\decorators.py:262: NumbaDeprecationWarning: \u001b[1mnumba.generated_jit is deprecated. Please see the documentation at: https://numba.readthedocs.io/en/stable/reference/deprecation.html#deprecation-of-generated-jit for more information and advice on a suitable replacement.\u001b[0m\n",
      "  warnings.warn(msg, NumbaDeprecationWarning)\n"
     ]
    }
   ],
   "source": [
    "from ConsLaborSeparableModel import LaborSeparableConsumerType\n",
    "\n",
    "agent = LaborSeparableConsumerType()"
   ]
  },
  {
   "cell_type": "code",
   "execution_count": 2,
   "metadata": {},
   "outputs": [
    {
     "ename": "TypeError",
     "evalue": "HARKinterpolator2D.__call__() missing 1 required positional argument: 'y'",
     "output_type": "error",
     "traceback": [
      "\u001b[1;31m---------------------------------------------------------------------------\u001b[0m",
      "\u001b[1;31mTypeError\u001b[0m                                 Traceback (most recent call last)",
      "Cell \u001b[1;32mIn[2], line 3\u001b[0m\n\u001b[0;32m      1\u001b[0m \u001b[39mfrom\u001b[39;00m \u001b[39mHARK\u001b[39;00m\u001b[39m.\u001b[39;00m\u001b[39mutilities\u001b[39;00m \u001b[39mimport\u001b[39;00m plot_funcs\n\u001b[1;32m----> 3\u001b[0m plot_funcs(agent\u001b[39m.\u001b[39;49msolution_terminal\u001b[39m.\u001b[39;49mcFunc, \u001b[39m0\u001b[39;49m, \u001b[39m5\u001b[39;49m)\n",
      "File \u001b[1;32mc:\\Users\\alujan\\mambaforge\\envs\\egmn-dev\\lib\\site-packages\\HARK\\utilities.py:798\u001b[0m, in \u001b[0;36mplot_funcs\u001b[1;34m(functions, bottom, top, N, legend_kwds)\u001b[0m\n\u001b[0;32m    796\u001b[0m \u001b[39mfor\u001b[39;00m function \u001b[39min\u001b[39;00m function_list:\n\u001b[0;32m    797\u001b[0m     x \u001b[39m=\u001b[39m np\u001b[39m.\u001b[39mlinspace(bottom, top, N, endpoint\u001b[39m=\u001b[39m\u001b[39mTrue\u001b[39;00m)\n\u001b[1;32m--> 798\u001b[0m     y \u001b[39m=\u001b[39m function(x)\n\u001b[0;32m    799\u001b[0m     plt\u001b[39m.\u001b[39mplot(x, y)\n\u001b[0;32m    800\u001b[0m plt\u001b[39m.\u001b[39mxlim([bottom, top])\n",
      "\u001b[1;31mTypeError\u001b[0m: HARKinterpolator2D.__call__() missing 1 required positional argument: 'y'"
     ]
    }
   ],
   "source": [
    "from HARK.utilities import plot_funcs\n",
    "\n",
    "plot_funcs(agent.solution_terminal.cFunc, 0, 5)"
   ]
  }
 ],
 "metadata": {
  "jupytext": {
   "formats": "ipynb,py:percent"
  },
  "kernelspec": {
   "display_name": "egmn-dev",
   "language": "python",
   "name": "python3"
  },
  "language_info": {
   "codemirror_mode": {
    "name": "ipython",
    "version": 3
   },
   "file_extension": ".py",
   "mimetype": "text/x-python",
   "name": "python",
   "nbconvert_exporter": "python",
   "pygments_lexer": "ipython3",
   "version": "3.10.11"
  }
 },
 "nbformat": 4,
 "nbformat_minor": 2
}
